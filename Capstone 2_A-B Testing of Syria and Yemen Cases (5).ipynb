{
 "cells": [
  {
   "cell_type": "markdown",
   "metadata": {},
   "source": [
    "# Capstone 2: A/B Testing"
   ]
  },
  {
   "cell_type": "markdown",
   "metadata": {},
   "source": [
    "##Dataset Sources: \n",
    "### Sexual Violence in Armed Conflict (SVAC) dataset measures reports of the conflict-related sexual violence committed by armed actors during the years 1989-2015 http://www.sexualviolencedata.org/dataset/\n",
    "###  https://guides.ucf.edu/war/wardata\n",
    "###   YRS 1998-2008: https://www.prio.org/Data/Armed-Conflict/Conflict-Site/\n",
    "### Download Political Instability Task Force Worldwide Atrocities Dataset, January 2016 to February 2020 (.zip) -- less than 10 cases for Yemen\n",
    "### University of MD, Center for International Development & Conflict Management:  https://www.dropbox.com/sh/g30wur1u0g8bppt/AAA01uvF4hEwYs8OU11wtnbea?dl=0\n"
   ]
  },
  {
   "cell_type": "code",
   "execution_count": null,
   "metadata": {},
   "outputs": [],
   "source": [
    "import numpy as np\n",
    "import pandas as pd\n",
    "import scipy.stats\n",
    "import matplotlib.pyplot as plt\n",
    "import seaborn as sns\n",
    "%matplotlib inline"
   ]
  },
  {
   "cell_type": "markdown",
   "metadata": {},
   "source": [
    "### df = pd.read_excel('grokonez.xlsx')  # parameter (sheetname='sheet_name') is optional\n",
    "### df.to_csv('grokonez.csv', index=False)  # index=True to write row index"
   ]
  },
  {
   "cell_type": "markdown",
   "metadata": {},
   "source": [
    "### Data Key: http://www.sexualviolencedata.org/wp-content/uploads/2019/10/SVAC-2.0-Coding-Manual-FINAL.pdf\n",
    "\n",
    "### Background & Variables: \n",
    "SAMPLE DURING ACTIVE CONFLICT YEARS:\n",
    "Syria cases: (2485 - 2474) + (9206-9199) + (9246-9239)= 11+7+7=25\n",
    "Yemen cases: 625-594= 31\n",
    "The SVAC Dataset covers conflict-related sexual violence committed by the following types of\n",
    "armed conflict actors: government/state military, pro-government militias, and rebel/insurgent\n",
    "forces between 1989-2009 (SVAC 1.0), and government/state military and rebel/insurgent forces\n",
    "for 2010-2015 (SVAC 2.0). We include only sexual violence by armed groups against individuals\n",
    "outside their own organization.\n",
    "\n",
    "All actors listed in the SVAC 2.0 Dataset are involved in state-based conflicts as defined by the\n",
    "UCDP/PRIO Armed Conflict Database. Peacekeeper and civilian perpetrators are not included as\n",
    "actors in the dataset. We also do not include non-state actors (both rebel groups and PGMs)\n",
    "involved in violence that is not part of a conflict with the government.\n",
    "\n",
    "The original SVAC Dataset covered armed conflict active in the years 1989-2009, as defined by\n",
    "the UCDP/PRIO Armed Conflict Database. The SVAC 2.0 update adds the years 2010-2015.\n",
    "Therefore, the SVAC 2.0 Dataset includes all conflicts active in the years 1989-2015. The\n",
    "additional six-year period includes 92 conflicts in 49 countries that were either active or within five\n",
    "years of cessation. We collected data for all years of active conflict (defined by 25 battle deaths or\n",
    "more per year) and for the five years post-conflict. Beyond this post-conflict time period,\n",
    "“peacetime” sexual violence is outside the scope of the project. We also code “interim” years; see\n",
    "definition of this variable below. \n",
    "\n",
    "Variables\n",
    "For compatibility and ease of integration with widely used existing datasets, we include a number\n",
    "of general variables on region, country, year, actor ID, type of actor, and conflict ID mostly from\n",
    "the UCDP/PRIO data.\n",
    "We use a monadic conflict-actor-year data structure; we rejected a dyadic structure because many\n",
    "of the victims of sexual violence in armed conflicts are civilians, which does not lend itself easily\n",
    "to a dyadic logic. By including variables with dyad ID and conflict ID, however, analysts may\n",
    "create a dyadic structure. \n",
    "\n",
    "Sexual Violence**\n",
    "Following the definition used by the International Criminal Court (ICC)3, we use a definition of\n",
    "crimes of sexual violence which includes (1) rape,(2) sexual slavery,(3) forced prostitution,(4)\n",
    "forced pregnancy, and (5) forced sterilization/abortion. Following Elisabeth Wood (2009), we\n",
    "also include (6) sexual mutilation, and (7) sexual torture.10 This definition does not exclude the\n",
    "existence of female perpetrators and male victims. We focus on behaviors that involve direct force\n",
    "and/or physical violence. We exclude acts that do not go beyond verbal sexual harassment and\n",
    "abuse, including sexualized insults or verbal humiliation. \n",
    "\n",
    "actor_type \n",
    "SVAC A coding for the type of actor. More specifically, we employ\n",
    "the following scheme:\n",
    "1: State or incumbent government (in UCDP dyadic, this actor type is called 'Side A')\n",
    "2: State A2 (in UCDP dyadic, this actor type is called 'Side A2nd'). These are states supporting the state (1) involved with conflict on its territory. \n",
    "3: Rebel (in UCDP dyadic, the actor type is called 'Side B')\n",
    "4: State supporting ‘Side B’ in other country (in UCDP dyadic, this actor type is called 'SideB2nd').\n",
    "5: Second state in interstate conflict (in UCDP dyadic, this actor is called ‘Side B’).\n",
    "6: Pro-government militias (PGMs)\n",
    "\n",
    "type \n",
    "UCDP/PRIO Nominal variable with three categories:\n",
    "2: Interstate Conflict\n",
    "3: Intrastate Conflict\n",
    "4: Internationalized Internal Armed Conflict\n",
    "\n",
    "~Syria is both types of conflict: Government & Territory\n",
    "~Yemen is both types of conflict: Government & Territory\n",
    "\n",
    "**Sexual Violence Variables\n",
    "The sexual violence variables aim to capture data on two dimensions, prevalence and form.\n",
    "(1) Prevalence\n",
    "The prevalence measure gives an estimate of the relative magnitude of sexual violence perpetration\n",
    "was by the conflict actor in the particular year. This is coded according to an ordinal scale, adapted\n",
    "from Cohen (2010; 2016) and discussed in Cohen and Nordås (2014). Note that the coding is\n",
    "primarily based on the qualitative description; only secondarily do we rely on a count of estimated\n",
    "incidents. The SVAC dataset cannot be used as a means to estimate the numbers of victims.\n",
    "Prevalence = 3 (Massive) Sexual violence is likely related to the conflict, and:\n",
    "• Sexual violence was described as “systematic” or “massive” or “innumerable”\n",
    "• Actor used sexual violence as a “means of intimidation,” “instrument of control and\n",
    "punishment,” “weapon,” “tactic to terrorize the population,” “terror tactic,” “tool of war,”\n",
    "on a “massive scale”\n",
    "Note: Absent these or similar terms, a count of 1000 or more reports of sexual violence\n",
    "indicates a prevalence code of 3.\n",
    "Prevalence = 2 (Numerous) Sexual violence is likely related to the conflict, but did not meet the\n",
    "requirements for a 3 coding, and:\n",
    "• Sexual violence was described as “widespread,” “common,” “commonplace,” “extensive,”\n",
    "“frequent,” “often,” “persistent,” “recurring,” a “pattern,” a “common pattern,” or a “spree”\n",
    "• Sexual violence occurred “commonly,” “frequently,” “in large numbers,” “periodically,”\n",
    "“regularly,” “routinely,” “widely,” or on a “number of occasions;” there were “many” or\n",
    "“numerous instances”\n",
    "Note: Absent these or similar terms, a count of 25-999 reports of sexual violence indicates a\n",
    "prevalence code of 2.\n",
    "Prevalence = 1 (Isolated) Sexual violence is likely related to the conflict, but did not meet the\n",
    "requirements for a 2 or 3 coding, and:\n",
    "SVAC 2.0—November 2019 Update 10\n",
    "• There were “reports,” “isolated reports,” or “there continued to be reports” of occurrences\n",
    "of sexual violence\n",
    "Note: Absent these or similar terms, a count of less than 25 reports of sexual violence indicates\n",
    "a prevalence code of 1.\n",
    "Prevalence = 0 (None) Report issued, but no mention of rape or other sexual violence related to\n",
    "the conflict\n",
    "Note: For example, a coder finds a report covering a country in a given year but within the report\n",
    "there is no mention of rape or other sexual violence related to the conflict.\n",
    "Prevalence = -99 (BOTH No Report AND No Information) No report found and no data\n",
    "available from subsequent years, and consequentially no data. This code should be used as\n",
    "infrequently as possible."
   ]
  },
  {
   "cell_type": "code",
   "execution_count": 5,
   "metadata": {},
   "outputs": [],
   "source": [
    "#Need to convert XLS file to CSV import pandas as pd #Users⁩/⁨mehrunisaqayyum⁩/⁨Downloads/SVAC_2.0_complete_X.1.xlsx⁩',sheet_name=None)\n",
    "#df_xls.to_csv('SVAC_2.0_complete_X.1.csv'\n",
    "df_xls = pd.read_excel('http://www.sexualviolencedata.org/wp-content/uploads/2019/12/SVAC_2.0_complete_X.1.xlsx') #encoding='utf-8')\n",
    "\n",
    "#df.to_csv('SVAC_2.0_complete_X.1.csv', index=False)"
   ]
  },
  {
   "cell_type": "code",
   "execution_count": 3,
   "metadata": {
    "scrolled": true
   },
   "outputs": [
    {
     "data": {
      "text/html": [
       "<div>\n",
       "<style scoped>\n",
       "    .dataframe tbody tr th:only-of-type {\n",
       "        vertical-align: middle;\n",
       "    }\n",
       "\n",
       "    .dataframe tbody tr th {\n",
       "        vertical-align: top;\n",
       "    }\n",
       "\n",
       "    .dataframe thead th {\n",
       "        text-align: right;\n",
       "    }\n",
       "</style>\n",
       "<table border=\"1\" class=\"dataframe\">\n",
       "  <thead>\n",
       "    <tr style=\"text-align: right;\">\n",
       "      <th></th>\n",
       "      <th>year</th>\n",
       "      <th>conflictid_old</th>\n",
       "      <th>conflictid_new</th>\n",
       "      <th>actor</th>\n",
       "      <th>actorid</th>\n",
       "      <th>actorid_new</th>\n",
       "      <th>actor_type</th>\n",
       "      <th>type</th>\n",
       "      <th>incomp</th>\n",
       "      <th>region</th>\n",
       "      <th>...</th>\n",
       "      <th>gwnoloc2</th>\n",
       "      <th>gwnoloc3</th>\n",
       "      <th>gwnoloc4</th>\n",
       "      <th>conflictyear</th>\n",
       "      <th>interm</th>\n",
       "      <th>postc</th>\n",
       "      <th>state_prev</th>\n",
       "      <th>ai_prev</th>\n",
       "      <th>hrw_prev</th>\n",
       "      <th>form</th>\n",
       "    </tr>\n",
       "  </thead>\n",
       "  <tbody>\n",
       "    <tr>\n",
       "      <td>0</td>\n",
       "      <td>1989</td>\n",
       "      <td>6</td>\n",
       "      <td>205</td>\n",
       "      <td>Iran</td>\n",
       "      <td>630</td>\n",
       "      <td>114.0</td>\n",
       "      <td>1</td>\n",
       "      <td>3</td>\n",
       "      <td>1</td>\n",
       "      <td>2</td>\n",
       "      <td>...</td>\n",
       "      <td>0</td>\n",
       "      <td>0</td>\n",
       "      <td>0</td>\n",
       "      <td>0</td>\n",
       "      <td>1</td>\n",
       "      <td>0</td>\n",
       "      <td>0.0</td>\n",
       "      <td>0.0</td>\n",
       "      <td>0.0</td>\n",
       "      <td>-99</td>\n",
       "    </tr>\n",
       "    <tr>\n",
       "      <td>1</td>\n",
       "      <td>1990</td>\n",
       "      <td>6</td>\n",
       "      <td>205</td>\n",
       "      <td>Iran</td>\n",
       "      <td>630</td>\n",
       "      <td>114.0</td>\n",
       "      <td>1</td>\n",
       "      <td>3</td>\n",
       "      <td>1</td>\n",
       "      <td>2</td>\n",
       "      <td>...</td>\n",
       "      <td>0</td>\n",
       "      <td>0</td>\n",
       "      <td>0</td>\n",
       "      <td>1</td>\n",
       "      <td>0</td>\n",
       "      <td>0</td>\n",
       "      <td>0.0</td>\n",
       "      <td>0.0</td>\n",
       "      <td>0.0</td>\n",
       "      <td>-99</td>\n",
       "    </tr>\n",
       "    <tr>\n",
       "      <td>2</td>\n",
       "      <td>1991</td>\n",
       "      <td>6</td>\n",
       "      <td>205</td>\n",
       "      <td>Iran</td>\n",
       "      <td>630</td>\n",
       "      <td>114.0</td>\n",
       "      <td>1</td>\n",
       "      <td>3</td>\n",
       "      <td>1</td>\n",
       "      <td>2</td>\n",
       "      <td>...</td>\n",
       "      <td>0</td>\n",
       "      <td>0</td>\n",
       "      <td>0</td>\n",
       "      <td>0</td>\n",
       "      <td>1</td>\n",
       "      <td>0</td>\n",
       "      <td>0.0</td>\n",
       "      <td>0.0</td>\n",
       "      <td>0.0</td>\n",
       "      <td>-99</td>\n",
       "    </tr>\n",
       "    <tr>\n",
       "      <td>3</td>\n",
       "      <td>1992</td>\n",
       "      <td>6</td>\n",
       "      <td>205</td>\n",
       "      <td>Iran</td>\n",
       "      <td>630</td>\n",
       "      <td>114.0</td>\n",
       "      <td>1</td>\n",
       "      <td>3</td>\n",
       "      <td>1</td>\n",
       "      <td>2</td>\n",
       "      <td>...</td>\n",
       "      <td>0</td>\n",
       "      <td>0</td>\n",
       "      <td>0</td>\n",
       "      <td>0</td>\n",
       "      <td>1</td>\n",
       "      <td>0</td>\n",
       "      <td>0.0</td>\n",
       "      <td>0.0</td>\n",
       "      <td>0.0</td>\n",
       "      <td>-99</td>\n",
       "    </tr>\n",
       "    <tr>\n",
       "      <td>4</td>\n",
       "      <td>1993</td>\n",
       "      <td>6</td>\n",
       "      <td>205</td>\n",
       "      <td>Iran</td>\n",
       "      <td>630</td>\n",
       "      <td>114.0</td>\n",
       "      <td>1</td>\n",
       "      <td>3</td>\n",
       "      <td>1</td>\n",
       "      <td>2</td>\n",
       "      <td>...</td>\n",
       "      <td>0</td>\n",
       "      <td>0</td>\n",
       "      <td>0</td>\n",
       "      <td>1</td>\n",
       "      <td>0</td>\n",
       "      <td>0</td>\n",
       "      <td>0.0</td>\n",
       "      <td>0.0</td>\n",
       "      <td>0.0</td>\n",
       "      <td>-99</td>\n",
       "    </tr>\n",
       "    <tr>\n",
       "      <td>...</td>\n",
       "      <td>...</td>\n",
       "      <td>...</td>\n",
       "      <td>...</td>\n",
       "      <td>...</td>\n",
       "      <td>...</td>\n",
       "      <td>...</td>\n",
       "      <td>...</td>\n",
       "      <td>...</td>\n",
       "      <td>...</td>\n",
       "      <td>...</td>\n",
       "      <td>...</td>\n",
       "      <td>...</td>\n",
       "      <td>...</td>\n",
       "      <td>...</td>\n",
       "      <td>...</td>\n",
       "      <td>...</td>\n",
       "      <td>...</td>\n",
       "      <td>...</td>\n",
       "      <td>...</td>\n",
       "      <td>...</td>\n",
       "      <td>...</td>\n",
       "    </tr>\n",
       "    <tr>\n",
       "      <td>9277</td>\n",
       "      <td>2015</td>\n",
       "      <td>298</td>\n",
       "      <td>13694</td>\n",
       "      <td>Libya</td>\n",
       "      <td>620</td>\n",
       "      <td>111.0</td>\n",
       "      <td>1</td>\n",
       "      <td>3</td>\n",
       "      <td>1</td>\n",
       "      <td>4</td>\n",
       "      <td>...</td>\n",
       "      <td>0</td>\n",
       "      <td>0</td>\n",
       "      <td>0</td>\n",
       "      <td>1</td>\n",
       "      <td>0</td>\n",
       "      <td>0</td>\n",
       "      <td>0.0</td>\n",
       "      <td>0.0</td>\n",
       "      <td>1.0</td>\n",
       "      <td>7</td>\n",
       "    </tr>\n",
       "    <tr>\n",
       "      <td>9278</td>\n",
       "      <td>2015</td>\n",
       "      <td>13721</td>\n",
       "      <td>13721</td>\n",
       "      <td>Algeria</td>\n",
       "      <td>615</td>\n",
       "      <td>109.0</td>\n",
       "      <td>1</td>\n",
       "      <td>3</td>\n",
       "      <td>1</td>\n",
       "      <td>4</td>\n",
       "      <td>...</td>\n",
       "      <td>0</td>\n",
       "      <td>0</td>\n",
       "      <td>0</td>\n",
       "      <td>1</td>\n",
       "      <td>0</td>\n",
       "      <td>0</td>\n",
       "      <td>0.0</td>\n",
       "      <td>0.0</td>\n",
       "      <td>0.0</td>\n",
       "      <td>-99</td>\n",
       "    </tr>\n",
       "    <tr>\n",
       "      <td>9279</td>\n",
       "      <td>2015</td>\n",
       "      <td>13721</td>\n",
       "      <td>13721</td>\n",
       "      <td>Jund al-Khilafah</td>\n",
       "      <td>5870</td>\n",
       "      <td>5870.0</td>\n",
       "      <td>3</td>\n",
       "      <td>3</td>\n",
       "      <td>1</td>\n",
       "      <td>4</td>\n",
       "      <td>...</td>\n",
       "      <td>0</td>\n",
       "      <td>0</td>\n",
       "      <td>0</td>\n",
       "      <td>1</td>\n",
       "      <td>0</td>\n",
       "      <td>0</td>\n",
       "      <td>0.0</td>\n",
       "      <td>0.0</td>\n",
       "      <td>0.0</td>\n",
       "      <td>-99</td>\n",
       "    </tr>\n",
       "    <tr>\n",
       "      <td>9280</td>\n",
       "      <td>2015</td>\n",
       "      <td>13902</td>\n",
       "      <td>13902</td>\n",
       "      <td>IS</td>\n",
       "      <td>1076</td>\n",
       "      <td>234.0</td>\n",
       "      <td>3</td>\n",
       "      <td>3</td>\n",
       "      <td>1</td>\n",
       "      <td>2</td>\n",
       "      <td>...</td>\n",
       "      <td>0</td>\n",
       "      <td>0</td>\n",
       "      <td>0</td>\n",
       "      <td>1</td>\n",
       "      <td>0</td>\n",
       "      <td>0</td>\n",
       "      <td>0.0</td>\n",
       "      <td>0.0</td>\n",
       "      <td>0.0</td>\n",
       "      <td>-99</td>\n",
       "    </tr>\n",
       "    <tr>\n",
       "      <td>9281</td>\n",
       "      <td>2015</td>\n",
       "      <td>13902</td>\n",
       "      <td>13902</td>\n",
       "      <td>Turkey</td>\n",
       "      <td>640</td>\n",
       "      <td>115.0</td>\n",
       "      <td>1</td>\n",
       "      <td>3</td>\n",
       "      <td>1</td>\n",
       "      <td>2</td>\n",
       "      <td>...</td>\n",
       "      <td>0</td>\n",
       "      <td>0</td>\n",
       "      <td>0</td>\n",
       "      <td>1</td>\n",
       "      <td>0</td>\n",
       "      <td>0</td>\n",
       "      <td>0.0</td>\n",
       "      <td>0.0</td>\n",
       "      <td>0.0</td>\n",
       "      <td>-99</td>\n",
       "    </tr>\n",
       "  </tbody>\n",
       "</table>\n",
       "<p>9282 rows × 22 columns</p>\n",
       "</div>"
      ],
      "text/plain": [
       "      year  conflictid_old  conflictid_new             actor  actorid  \\\n",
       "0     1989               6             205              Iran      630   \n",
       "1     1990               6             205              Iran      630   \n",
       "2     1991               6             205              Iran      630   \n",
       "3     1992               6             205              Iran      630   \n",
       "4     1993               6             205              Iran      630   \n",
       "...    ...             ...             ...               ...      ...   \n",
       "9277  2015             298           13694             Libya      620   \n",
       "9278  2015           13721           13721           Algeria      615   \n",
       "9279  2015           13721           13721  Jund al-Khilafah     5870   \n",
       "9280  2015           13902           13902                IS     1076   \n",
       "9281  2015           13902           13902            Turkey      640   \n",
       "\n",
       "      actorid_new  actor_type  type  incomp  region  ... gwnoloc2  gwnoloc3  \\\n",
       "0           114.0           1     3       1       2  ...        0         0   \n",
       "1           114.0           1     3       1       2  ...        0         0   \n",
       "2           114.0           1     3       1       2  ...        0         0   \n",
       "3           114.0           1     3       1       2  ...        0         0   \n",
       "4           114.0           1     3       1       2  ...        0         0   \n",
       "...           ...         ...   ...     ...     ...  ...      ...       ...   \n",
       "9277        111.0           1     3       1       4  ...        0         0   \n",
       "9278        109.0           1     3       1       4  ...        0         0   \n",
       "9279       5870.0           3     3       1       4  ...        0         0   \n",
       "9280        234.0           3     3       1       2  ...        0         0   \n",
       "9281        115.0           1     3       1       2  ...        0         0   \n",
       "\n",
       "      gwnoloc4  conflictyear  interm  postc  state_prev  ai_prev  hrw_prev  \\\n",
       "0            0             0       1      0         0.0      0.0       0.0   \n",
       "1            0             1       0      0         0.0      0.0       0.0   \n",
       "2            0             0       1      0         0.0      0.0       0.0   \n",
       "3            0             0       1      0         0.0      0.0       0.0   \n",
       "4            0             1       0      0         0.0      0.0       0.0   \n",
       "...        ...           ...     ...    ...         ...      ...       ...   \n",
       "9277         0             1       0      0         0.0      0.0       1.0   \n",
       "9278         0             1       0      0         0.0      0.0       0.0   \n",
       "9279         0             1       0      0         0.0      0.0       0.0   \n",
       "9280         0             1       0      0         0.0      0.0       0.0   \n",
       "9281         0             1       0      0         0.0      0.0       0.0   \n",
       "\n",
       "      form  \n",
       "0      -99  \n",
       "1      -99  \n",
       "2      -99  \n",
       "3      -99  \n",
       "4      -99  \n",
       "...    ...  \n",
       "9277     7  \n",
       "9278   -99  \n",
       "9279   -99  \n",
       "9280   -99  \n",
       "9281   -99  \n",
       "\n",
       "[9282 rows x 22 columns]"
      ]
     },
     "execution_count": 3,
     "metadata": {},
     "output_type": "execute_result"
    }
   ],
   "source": [
    "df_xls"
   ]
  },
  {
   "cell_type": "code",
   "execution_count": 6,
   "metadata": {},
   "outputs": [
    {
     "data": {
      "text/html": [
       "<div>\n",
       "<style scoped>\n",
       "    .dataframe tbody tr th:only-of-type {\n",
       "        vertical-align: middle;\n",
       "    }\n",
       "\n",
       "    .dataframe tbody tr th {\n",
       "        vertical-align: top;\n",
       "    }\n",
       "\n",
       "    .dataframe thead th {\n",
       "        text-align: right;\n",
       "    }\n",
       "</style>\n",
       "<table border=\"1\" class=\"dataframe\">\n",
       "  <thead>\n",
       "    <tr style=\"text-align: right;\">\n",
       "      <th></th>\n",
       "      <th>year</th>\n",
       "      <th>conflictid_old</th>\n",
       "      <th>conflictid_new</th>\n",
       "      <th>actor</th>\n",
       "      <th>actorid</th>\n",
       "      <th>actorid_new</th>\n",
       "      <th>actor_type</th>\n",
       "      <th>type</th>\n",
       "      <th>incomp</th>\n",
       "      <th>region</th>\n",
       "      <th>...</th>\n",
       "      <th>gwnoloc2</th>\n",
       "      <th>gwnoloc3</th>\n",
       "      <th>gwnoloc4</th>\n",
       "      <th>conflictyear</th>\n",
       "      <th>interm</th>\n",
       "      <th>postc</th>\n",
       "      <th>state_prev</th>\n",
       "      <th>ai_prev</th>\n",
       "      <th>hrw_prev</th>\n",
       "      <th>form</th>\n",
       "    </tr>\n",
       "  </thead>\n",
       "  <tbody>\n",
       "    <tr>\n",
       "      <td>0</td>\n",
       "      <td>1989</td>\n",
       "      <td>6</td>\n",
       "      <td>205</td>\n",
       "      <td>Iran</td>\n",
       "      <td>630</td>\n",
       "      <td>114.0</td>\n",
       "      <td>1</td>\n",
       "      <td>3</td>\n",
       "      <td>1</td>\n",
       "      <td>2</td>\n",
       "      <td>...</td>\n",
       "      <td>0</td>\n",
       "      <td>0</td>\n",
       "      <td>0</td>\n",
       "      <td>0</td>\n",
       "      <td>1</td>\n",
       "      <td>0</td>\n",
       "      <td>0.0</td>\n",
       "      <td>0.0</td>\n",
       "      <td>0.0</td>\n",
       "      <td>-99</td>\n",
       "    </tr>\n",
       "    <tr>\n",
       "      <td>1</td>\n",
       "      <td>1990</td>\n",
       "      <td>6</td>\n",
       "      <td>205</td>\n",
       "      <td>Iran</td>\n",
       "      <td>630</td>\n",
       "      <td>114.0</td>\n",
       "      <td>1</td>\n",
       "      <td>3</td>\n",
       "      <td>1</td>\n",
       "      <td>2</td>\n",
       "      <td>...</td>\n",
       "      <td>0</td>\n",
       "      <td>0</td>\n",
       "      <td>0</td>\n",
       "      <td>1</td>\n",
       "      <td>0</td>\n",
       "      <td>0</td>\n",
       "      <td>0.0</td>\n",
       "      <td>0.0</td>\n",
       "      <td>0.0</td>\n",
       "      <td>-99</td>\n",
       "    </tr>\n",
       "    <tr>\n",
       "      <td>2</td>\n",
       "      <td>1991</td>\n",
       "      <td>6</td>\n",
       "      <td>205</td>\n",
       "      <td>Iran</td>\n",
       "      <td>630</td>\n",
       "      <td>114.0</td>\n",
       "      <td>1</td>\n",
       "      <td>3</td>\n",
       "      <td>1</td>\n",
       "      <td>2</td>\n",
       "      <td>...</td>\n",
       "      <td>0</td>\n",
       "      <td>0</td>\n",
       "      <td>0</td>\n",
       "      <td>0</td>\n",
       "      <td>1</td>\n",
       "      <td>0</td>\n",
       "      <td>0.0</td>\n",
       "      <td>0.0</td>\n",
       "      <td>0.0</td>\n",
       "      <td>-99</td>\n",
       "    </tr>\n",
       "    <tr>\n",
       "      <td>3</td>\n",
       "      <td>1992</td>\n",
       "      <td>6</td>\n",
       "      <td>205</td>\n",
       "      <td>Iran</td>\n",
       "      <td>630</td>\n",
       "      <td>114.0</td>\n",
       "      <td>1</td>\n",
       "      <td>3</td>\n",
       "      <td>1</td>\n",
       "      <td>2</td>\n",
       "      <td>...</td>\n",
       "      <td>0</td>\n",
       "      <td>0</td>\n",
       "      <td>0</td>\n",
       "      <td>0</td>\n",
       "      <td>1</td>\n",
       "      <td>0</td>\n",
       "      <td>0.0</td>\n",
       "      <td>0.0</td>\n",
       "      <td>0.0</td>\n",
       "      <td>-99</td>\n",
       "    </tr>\n",
       "    <tr>\n",
       "      <td>4</td>\n",
       "      <td>1993</td>\n",
       "      <td>6</td>\n",
       "      <td>205</td>\n",
       "      <td>Iran</td>\n",
       "      <td>630</td>\n",
       "      <td>114.0</td>\n",
       "      <td>1</td>\n",
       "      <td>3</td>\n",
       "      <td>1</td>\n",
       "      <td>2</td>\n",
       "      <td>...</td>\n",
       "      <td>0</td>\n",
       "      <td>0</td>\n",
       "      <td>0</td>\n",
       "      <td>1</td>\n",
       "      <td>0</td>\n",
       "      <td>0</td>\n",
       "      <td>0.0</td>\n",
       "      <td>0.0</td>\n",
       "      <td>0.0</td>\n",
       "      <td>-99</td>\n",
       "    </tr>\n",
       "  </tbody>\n",
       "</table>\n",
       "<p>5 rows × 22 columns</p>\n",
       "</div>"
      ],
      "text/plain": [
       "   year  conflictid_old  conflictid_new actor  actorid  actorid_new  \\\n",
       "0  1989               6             205  Iran      630        114.0   \n",
       "1  1990               6             205  Iran      630        114.0   \n",
       "2  1991               6             205  Iran      630        114.0   \n",
       "3  1992               6             205  Iran      630        114.0   \n",
       "4  1993               6             205  Iran      630        114.0   \n",
       "\n",
       "   actor_type  type  incomp  region  ... gwnoloc2  gwnoloc3  gwnoloc4  \\\n",
       "0           1     3       1       2  ...        0         0         0   \n",
       "1           1     3       1       2  ...        0         0         0   \n",
       "2           1     3       1       2  ...        0         0         0   \n",
       "3           1     3       1       2  ...        0         0         0   \n",
       "4           1     3       1       2  ...        0         0         0   \n",
       "\n",
       "   conflictyear  interm  postc  state_prev  ai_prev  hrw_prev  form  \n",
       "0             0       1      0         0.0      0.0       0.0   -99  \n",
       "1             1       0      0         0.0      0.0       0.0   -99  \n",
       "2             0       1      0         0.0      0.0       0.0   -99  \n",
       "3             0       1      0         0.0      0.0       0.0   -99  \n",
       "4             1       0      0         0.0      0.0       0.0   -99  \n",
       "\n",
       "[5 rows x 22 columns]"
      ]
     },
     "execution_count": 6,
     "metadata": {},
     "output_type": "execute_result"
    }
   ],
   "source": [
    "df_xls.head()"
   ]
  },
  {
   "cell_type": "markdown",
   "metadata": {},
   "source": [
    "##HYPOTHESIS: Hypothesis: Countries inhabiting more of this type of actor \"\" will have higher rates of Form or prevalance of sexual violence against women during government and territorial conflict. #Create a new index: a column that combines both columns (both violence and type). What other possible weak points?  #There's a statistical diff between these two countries with more actors than less actors. #look at population per citizen. Proportion of cases larger than the average. Count of the number of cases. Proportion of cases/population. Cases per person for Syria: is it significantly larger than cases per person in the average of all other cases. Focus across 3 years. \n",
    "\n",
    "Null: There will be no difference in Test A (Syria in state) and Test B (rest of world) in rates of Form or prevalance of sexual violence against women during government and territorial conflict."
   ]
  },
  {
   "cell_type": "code",
   "execution_count": 7,
   "metadata": {},
   "outputs": [],
   "source": [
    "#Need to change the list into a Pandas dataframe: https://stackoverflow.com/questions/45489205/why-is-df-head-not-working-in-python\n",
    "df = pd.DataFrame(df_xls)"
   ]
  },
  {
   "cell_type": "code",
   "execution_count": 8,
   "metadata": {},
   "outputs": [
    {
     "data": {
      "text/plain": [
       "(9282, 22)"
      ]
     },
     "execution_count": 8,
     "metadata": {},
     "output_type": "execute_result"
    }
   ],
   "source": [
    "df.shape"
   ]
  },
  {
   "cell_type": "code",
   "execution_count": 9,
   "metadata": {},
   "outputs": [
    {
     "data": {
      "text/plain": [
       "RangeIndex(start=0, stop=9282, step=1)"
      ]
     },
     "execution_count": 9,
     "metadata": {},
     "output_type": "execute_result"
    }
   ],
   "source": [
    "index=df.index\n",
    "index"
   ]
  },
  {
   "cell_type": "code",
   "execution_count": 10,
   "metadata": {},
   "outputs": [
    {
     "data": {
      "text/plain": [
       "Index(['year', 'conflictid_old', 'conflictid_new', 'actor', 'actorid',\n",
       "       'actorid_new', 'actor_type', 'type', 'incomp', 'region', 'location',\n",
       "       'gwnoloc', 'gwnoloc2', 'gwnoloc3', 'gwnoloc4', 'conflictyear', 'interm',\n",
       "       'postc', 'state_prev', 'ai_prev', 'hrw_prev', 'form'],\n",
       "      dtype='object')"
      ]
     },
     "execution_count": 10,
     "metadata": {},
     "output_type": "execute_result"
    }
   ],
   "source": [
    "columns=df.columns\n",
    "columns"
   ]
  },
  {
   "cell_type": "code",
   "execution_count": 11,
   "metadata": {},
   "outputs": [
    {
     "data": {
      "text/html": [
       "<div>\n",
       "<style scoped>\n",
       "    .dataframe tbody tr th:only-of-type {\n",
       "        vertical-align: middle;\n",
       "    }\n",
       "\n",
       "    .dataframe tbody tr th {\n",
       "        vertical-align: top;\n",
       "    }\n",
       "\n",
       "    .dataframe thead th {\n",
       "        text-align: right;\n",
       "    }\n",
       "</style>\n",
       "<table border=\"1\" class=\"dataframe\">\n",
       "  <thead>\n",
       "    <tr style=\"text-align: right;\">\n",
       "      <th></th>\n",
       "      <th>year</th>\n",
       "      <th>conflictid_old</th>\n",
       "      <th>conflictid_new</th>\n",
       "      <th>actor</th>\n",
       "      <th>actorid</th>\n",
       "      <th>actorid_new</th>\n",
       "      <th>actor_type</th>\n",
       "      <th>type</th>\n",
       "      <th>incomp</th>\n",
       "      <th>region</th>\n",
       "      <th>...</th>\n",
       "      <th>gwnoloc2</th>\n",
       "      <th>gwnoloc3</th>\n",
       "      <th>gwnoloc4</th>\n",
       "      <th>conflictyear</th>\n",
       "      <th>interm</th>\n",
       "      <th>postc</th>\n",
       "      <th>state_prev</th>\n",
       "      <th>ai_prev</th>\n",
       "      <th>hrw_prev</th>\n",
       "      <th>form</th>\n",
       "    </tr>\n",
       "  </thead>\n",
       "  <tbody>\n",
       "    <tr>\n",
       "      <td>0</td>\n",
       "      <td>1989</td>\n",
       "      <td>6</td>\n",
       "      <td>205</td>\n",
       "      <td>Iran</td>\n",
       "      <td>630</td>\n",
       "      <td>114.0</td>\n",
       "      <td>1</td>\n",
       "      <td>3</td>\n",
       "      <td>1</td>\n",
       "      <td>2</td>\n",
       "      <td>...</td>\n",
       "      <td>0</td>\n",
       "      <td>0</td>\n",
       "      <td>0</td>\n",
       "      <td>0</td>\n",
       "      <td>1</td>\n",
       "      <td>0</td>\n",
       "      <td>0.0</td>\n",
       "      <td>0.0</td>\n",
       "      <td>0.0</td>\n",
       "      <td>-99</td>\n",
       "    </tr>\n",
       "    <tr>\n",
       "      <td>1</td>\n",
       "      <td>1990</td>\n",
       "      <td>6</td>\n",
       "      <td>205</td>\n",
       "      <td>Iran</td>\n",
       "      <td>630</td>\n",
       "      <td>114.0</td>\n",
       "      <td>1</td>\n",
       "      <td>3</td>\n",
       "      <td>1</td>\n",
       "      <td>2</td>\n",
       "      <td>...</td>\n",
       "      <td>0</td>\n",
       "      <td>0</td>\n",
       "      <td>0</td>\n",
       "      <td>1</td>\n",
       "      <td>0</td>\n",
       "      <td>0</td>\n",
       "      <td>0.0</td>\n",
       "      <td>0.0</td>\n",
       "      <td>0.0</td>\n",
       "      <td>-99</td>\n",
       "    </tr>\n",
       "    <tr>\n",
       "      <td>2</td>\n",
       "      <td>1991</td>\n",
       "      <td>6</td>\n",
       "      <td>205</td>\n",
       "      <td>Iran</td>\n",
       "      <td>630</td>\n",
       "      <td>114.0</td>\n",
       "      <td>1</td>\n",
       "      <td>3</td>\n",
       "      <td>1</td>\n",
       "      <td>2</td>\n",
       "      <td>...</td>\n",
       "      <td>0</td>\n",
       "      <td>0</td>\n",
       "      <td>0</td>\n",
       "      <td>0</td>\n",
       "      <td>1</td>\n",
       "      <td>0</td>\n",
       "      <td>0.0</td>\n",
       "      <td>0.0</td>\n",
       "      <td>0.0</td>\n",
       "      <td>-99</td>\n",
       "    </tr>\n",
       "    <tr>\n",
       "      <td>3</td>\n",
       "      <td>1992</td>\n",
       "      <td>6</td>\n",
       "      <td>205</td>\n",
       "      <td>Iran</td>\n",
       "      <td>630</td>\n",
       "      <td>114.0</td>\n",
       "      <td>1</td>\n",
       "      <td>3</td>\n",
       "      <td>1</td>\n",
       "      <td>2</td>\n",
       "      <td>...</td>\n",
       "      <td>0</td>\n",
       "      <td>0</td>\n",
       "      <td>0</td>\n",
       "      <td>0</td>\n",
       "      <td>1</td>\n",
       "      <td>0</td>\n",
       "      <td>0.0</td>\n",
       "      <td>0.0</td>\n",
       "      <td>0.0</td>\n",
       "      <td>-99</td>\n",
       "    </tr>\n",
       "    <tr>\n",
       "      <td>4</td>\n",
       "      <td>1993</td>\n",
       "      <td>6</td>\n",
       "      <td>205</td>\n",
       "      <td>Iran</td>\n",
       "      <td>630</td>\n",
       "      <td>114.0</td>\n",
       "      <td>1</td>\n",
       "      <td>3</td>\n",
       "      <td>1</td>\n",
       "      <td>2</td>\n",
       "      <td>...</td>\n",
       "      <td>0</td>\n",
       "      <td>0</td>\n",
       "      <td>0</td>\n",
       "      <td>1</td>\n",
       "      <td>0</td>\n",
       "      <td>0</td>\n",
       "      <td>0.0</td>\n",
       "      <td>0.0</td>\n",
       "      <td>0.0</td>\n",
       "      <td>-99</td>\n",
       "    </tr>\n",
       "    <tr>\n",
       "      <td>...</td>\n",
       "      <td>...</td>\n",
       "      <td>...</td>\n",
       "      <td>...</td>\n",
       "      <td>...</td>\n",
       "      <td>...</td>\n",
       "      <td>...</td>\n",
       "      <td>...</td>\n",
       "      <td>...</td>\n",
       "      <td>...</td>\n",
       "      <td>...</td>\n",
       "      <td>...</td>\n",
       "      <td>...</td>\n",
       "      <td>...</td>\n",
       "      <td>...</td>\n",
       "      <td>...</td>\n",
       "      <td>...</td>\n",
       "      <td>...</td>\n",
       "      <td>...</td>\n",
       "      <td>...</td>\n",
       "      <td>...</td>\n",
       "      <td>...</td>\n",
       "    </tr>\n",
       "    <tr>\n",
       "      <td>9277</td>\n",
       "      <td>2015</td>\n",
       "      <td>298</td>\n",
       "      <td>13694</td>\n",
       "      <td>Libya</td>\n",
       "      <td>620</td>\n",
       "      <td>111.0</td>\n",
       "      <td>1</td>\n",
       "      <td>3</td>\n",
       "      <td>1</td>\n",
       "      <td>4</td>\n",
       "      <td>...</td>\n",
       "      <td>0</td>\n",
       "      <td>0</td>\n",
       "      <td>0</td>\n",
       "      <td>1</td>\n",
       "      <td>0</td>\n",
       "      <td>0</td>\n",
       "      <td>0.0</td>\n",
       "      <td>0.0</td>\n",
       "      <td>1.0</td>\n",
       "      <td>7</td>\n",
       "    </tr>\n",
       "    <tr>\n",
       "      <td>9278</td>\n",
       "      <td>2015</td>\n",
       "      <td>13721</td>\n",
       "      <td>13721</td>\n",
       "      <td>Algeria</td>\n",
       "      <td>615</td>\n",
       "      <td>109.0</td>\n",
       "      <td>1</td>\n",
       "      <td>3</td>\n",
       "      <td>1</td>\n",
       "      <td>4</td>\n",
       "      <td>...</td>\n",
       "      <td>0</td>\n",
       "      <td>0</td>\n",
       "      <td>0</td>\n",
       "      <td>1</td>\n",
       "      <td>0</td>\n",
       "      <td>0</td>\n",
       "      <td>0.0</td>\n",
       "      <td>0.0</td>\n",
       "      <td>0.0</td>\n",
       "      <td>-99</td>\n",
       "    </tr>\n",
       "    <tr>\n",
       "      <td>9279</td>\n",
       "      <td>2015</td>\n",
       "      <td>13721</td>\n",
       "      <td>13721</td>\n",
       "      <td>Jund al-Khilafah</td>\n",
       "      <td>5870</td>\n",
       "      <td>5870.0</td>\n",
       "      <td>3</td>\n",
       "      <td>3</td>\n",
       "      <td>1</td>\n",
       "      <td>4</td>\n",
       "      <td>...</td>\n",
       "      <td>0</td>\n",
       "      <td>0</td>\n",
       "      <td>0</td>\n",
       "      <td>1</td>\n",
       "      <td>0</td>\n",
       "      <td>0</td>\n",
       "      <td>0.0</td>\n",
       "      <td>0.0</td>\n",
       "      <td>0.0</td>\n",
       "      <td>-99</td>\n",
       "    </tr>\n",
       "    <tr>\n",
       "      <td>9280</td>\n",
       "      <td>2015</td>\n",
       "      <td>13902</td>\n",
       "      <td>13902</td>\n",
       "      <td>IS</td>\n",
       "      <td>1076</td>\n",
       "      <td>234.0</td>\n",
       "      <td>3</td>\n",
       "      <td>3</td>\n",
       "      <td>1</td>\n",
       "      <td>2</td>\n",
       "      <td>...</td>\n",
       "      <td>0</td>\n",
       "      <td>0</td>\n",
       "      <td>0</td>\n",
       "      <td>1</td>\n",
       "      <td>0</td>\n",
       "      <td>0</td>\n",
       "      <td>0.0</td>\n",
       "      <td>0.0</td>\n",
       "      <td>0.0</td>\n",
       "      <td>-99</td>\n",
       "    </tr>\n",
       "    <tr>\n",
       "      <td>9281</td>\n",
       "      <td>2015</td>\n",
       "      <td>13902</td>\n",
       "      <td>13902</td>\n",
       "      <td>Turkey</td>\n",
       "      <td>640</td>\n",
       "      <td>115.0</td>\n",
       "      <td>1</td>\n",
       "      <td>3</td>\n",
       "      <td>1</td>\n",
       "      <td>2</td>\n",
       "      <td>...</td>\n",
       "      <td>0</td>\n",
       "      <td>0</td>\n",
       "      <td>0</td>\n",
       "      <td>1</td>\n",
       "      <td>0</td>\n",
       "      <td>0</td>\n",
       "      <td>0.0</td>\n",
       "      <td>0.0</td>\n",
       "      <td>0.0</td>\n",
       "      <td>-99</td>\n",
       "    </tr>\n",
       "  </tbody>\n",
       "</table>\n",
       "<p>9282 rows × 22 columns</p>\n",
       "</div>"
      ],
      "text/plain": [
       "      year  conflictid_old  conflictid_new             actor  actorid  \\\n",
       "0     1989               6             205              Iran      630   \n",
       "1     1990               6             205              Iran      630   \n",
       "2     1991               6             205              Iran      630   \n",
       "3     1992               6             205              Iran      630   \n",
       "4     1993               6             205              Iran      630   \n",
       "...    ...             ...             ...               ...      ...   \n",
       "9277  2015             298           13694             Libya      620   \n",
       "9278  2015           13721           13721           Algeria      615   \n",
       "9279  2015           13721           13721  Jund al-Khilafah     5870   \n",
       "9280  2015           13902           13902                IS     1076   \n",
       "9281  2015           13902           13902            Turkey      640   \n",
       "\n",
       "      actorid_new  actor_type  type  incomp  region  ... gwnoloc2  gwnoloc3  \\\n",
       "0           114.0           1     3       1       2  ...        0         0   \n",
       "1           114.0           1     3       1       2  ...        0         0   \n",
       "2           114.0           1     3       1       2  ...        0         0   \n",
       "3           114.0           1     3       1       2  ...        0         0   \n",
       "4           114.0           1     3       1       2  ...        0         0   \n",
       "...           ...         ...   ...     ...     ...  ...      ...       ...   \n",
       "9277        111.0           1     3       1       4  ...        0         0   \n",
       "9278        109.0           1     3       1       4  ...        0         0   \n",
       "9279       5870.0           3     3       1       4  ...        0         0   \n",
       "9280        234.0           3     3       1       2  ...        0         0   \n",
       "9281        115.0           1     3       1       2  ...        0         0   \n",
       "\n",
       "      gwnoloc4  conflictyear  interm  postc  state_prev  ai_prev  hrw_prev  \\\n",
       "0            0             0       1      0         0.0      0.0       0.0   \n",
       "1            0             1       0      0         0.0      0.0       0.0   \n",
       "2            0             0       1      0         0.0      0.0       0.0   \n",
       "3            0             0       1      0         0.0      0.0       0.0   \n",
       "4            0             1       0      0         0.0      0.0       0.0   \n",
       "...        ...           ...     ...    ...         ...      ...       ...   \n",
       "9277         0             1       0      0         0.0      0.0       1.0   \n",
       "9278         0             1       0      0         0.0      0.0       0.0   \n",
       "9279         0             1       0      0         0.0      0.0       0.0   \n",
       "9280         0             1       0      0         0.0      0.0       0.0   \n",
       "9281         0             1       0      0         0.0      0.0       0.0   \n",
       "\n",
       "      form  \n",
       "0      -99  \n",
       "1      -99  \n",
       "2      -99  \n",
       "3      -99  \n",
       "4      -99  \n",
       "...    ...  \n",
       "9277     7  \n",
       "9278   -99  \n",
       "9279   -99  \n",
       "9280   -99  \n",
       "9281   -99  \n",
       "\n",
       "[9282 rows x 22 columns]"
      ]
     },
     "execution_count": 11,
     "metadata": {},
     "output_type": "execute_result"
    }
   ],
   "source": [
    "#Check for Null Values\n",
    "sum(df['year'].isnull())\n",
    "df"
   ]
  },
  {
   "cell_type": "code",
   "execution_count": 12,
   "metadata": {},
   "outputs": [
    {
     "data": {
      "text/plain": [
       "0"
      ]
     },
     "execution_count": 12,
     "metadata": {},
     "output_type": "execute_result"
    }
   ],
   "source": [
    "sum(df['actor_type'].isnull())"
   ]
  },
  {
   "cell_type": "code",
   "execution_count": 13,
   "metadata": {},
   "outputs": [
    {
     "data": {
      "text/plain": [
       "0"
      ]
     },
     "execution_count": 13,
     "metadata": {},
     "output_type": "execute_result"
    }
   ],
   "source": [
    "sum(df['type'].isnull())"
   ]
  },
  {
   "cell_type": "code",
   "execution_count": 14,
   "metadata": {},
   "outputs": [
    {
     "data": {
      "text/plain": [
       "10"
      ]
     },
     "execution_count": 14,
     "metadata": {},
     "output_type": "execute_result"
    }
   ],
   "source": [
    "sum(df['state_prev'].isnull())"
   ]
  },
  {
   "cell_type": "code",
   "execution_count": 15,
   "metadata": {},
   "outputs": [
    {
     "data": {
      "text/plain": [
       "10"
      ]
     },
     "execution_count": 15,
     "metadata": {},
     "output_type": "execute_result"
    }
   ],
   "source": [
    "sum(df['ai_prev'].isnull())"
   ]
  },
  {
   "cell_type": "code",
   "execution_count": 16,
   "metadata": {},
   "outputs": [
    {
     "data": {
      "text/plain": [
       "10"
      ]
     },
     "execution_count": 16,
     "metadata": {},
     "output_type": "execute_result"
    }
   ],
   "source": [
    "sum(df['hrw_prev'].isnull())"
   ]
  },
  {
   "cell_type": "code",
   "execution_count": 17,
   "metadata": {},
   "outputs": [
    {
     "data": {
      "text/plain": [
       "10"
      ]
     },
     "execution_count": 17,
     "metadata": {},
     "output_type": "execute_result"
    }
   ],
   "source": [
    "sum(df['form'].isnull())"
   ]
  },
  {
   "cell_type": "markdown",
   "metadata": {},
   "source": [
    "## Data Types"
   ]
  },
  {
   "cell_type": "code",
   "execution_count": 18,
   "metadata": {},
   "outputs": [
    {
     "data": {
      "text/plain": [
       "year                int64\n",
       "conflictid_old      int64\n",
       "conflictid_new      int64\n",
       "actor              object\n",
       "actorid             int64\n",
       "actorid_new       float64\n",
       "actor_type          int64\n",
       "type                int64\n",
       "incomp              int64\n",
       "region              int64\n",
       "location           object\n",
       "gwnoloc             int64\n",
       "gwnoloc2            int64\n",
       "gwnoloc3            int64\n",
       "gwnoloc4            int64\n",
       "conflictyear        int64\n",
       "interm              int64\n",
       "postc               int64\n",
       "state_prev        float64\n",
       "ai_prev           float64\n",
       "hrw_prev          float64\n",
       "form               object\n",
       "dtype: object"
      ]
     },
     "execution_count": 18,
     "metadata": {},
     "output_type": "execute_result"
    }
   ],
   "source": [
    "df.dtypes\n",
    "#Note that the variable \"form\" is an object. Need to transform into numeric for both subsets."
   ]
  },
  {
   "cell_type": "code",
   "execution_count": 24,
   "metadata": {},
   "outputs": [
    {
     "data": {
      "text/plain": [
       "3    5468\n",
       "4    3486\n",
       "2     328\n",
       "Name: type, dtype: int64"
      ]
     },
     "execution_count": 24,
     "metadata": {},
     "output_type": "execute_result"
    }
   ],
   "source": [
    "df['type'].value_counts()\n",
    "#There are 3 types of conflict."
   ]
  },
  {
   "cell_type": "code",
   "execution_count": 26,
   "metadata": {},
   "outputs": [
    {
     "data": {
      "text/plain": [
       "3    3020\n",
       "6    2235\n",
       "1    1914\n",
       "2    1613\n",
       "4     412\n",
       "5      88\n",
       "Name: actor_type, dtype: int64"
      ]
     },
     "execution_count": 26,
     "metadata": {},
     "output_type": "execute_result"
    }
   ],
   "source": [
    "df['actor_type'].value_counts()\n",
    "#There are 6 actor types. '3' is the most prevalent."
   ]
  },
  {
   "cell_type": "code",
   "execution_count": 19,
   "metadata": {},
   "outputs": [
    {
     "name": "stdout",
     "output_type": "stream",
     "text": [
      "      year  conflictid_old  conflictid_new             actor  actorid  \\\n",
      "0     1989               6             205              Iran      630   \n",
      "1     1990               6             205              Iran      630   \n",
      "2     1991               6             205              Iran      630   \n",
      "3     1992               6             205              Iran      630   \n",
      "4     1993               6             205              Iran      630   \n",
      "...    ...             ...             ...               ...      ...   \n",
      "9277  2015             298           13694             Libya      620   \n",
      "9278  2015           13721           13721           Algeria      615   \n",
      "9279  2015           13721           13721  Jund al-Khilafah     5870   \n",
      "9280  2015           13902           13902                IS     1076   \n",
      "9281  2015           13902           13902            Turkey      640   \n",
      "\n",
      "      actorid_new  actor_type  type  incomp  region  ... gwnoloc2  gwnoloc3  \\\n",
      "0           114.0           1     3       1       2  ...        0         0   \n",
      "1           114.0           1     3       1       2  ...        0         0   \n",
      "2           114.0           1     3       1       2  ...        0         0   \n",
      "3           114.0           1     3       1       2  ...        0         0   \n",
      "4           114.0           1     3       1       2  ...        0         0   \n",
      "...           ...         ...   ...     ...     ...  ...      ...       ...   \n",
      "9277        111.0           1     3       1       4  ...        0         0   \n",
      "9278        109.0           1     3       1       4  ...        0         0   \n",
      "9279       5870.0           3     3       1       4  ...        0         0   \n",
      "9280        234.0           3     3       1       2  ...        0         0   \n",
      "9281        115.0           1     3       1       2  ...        0         0   \n",
      "\n",
      "      gwnoloc4  conflictyear  interm  postc  state_prev  ai_prev  hrw_prev  \\\n",
      "0            0             0       1      0         0.0      0.0       0.0   \n",
      "1            0             1       0      0         0.0      0.0       0.0   \n",
      "2            0             0       1      0         0.0      0.0       0.0   \n",
      "3            0             0       1      0         0.0      0.0       0.0   \n",
      "4            0             1       0      0         0.0      0.0       0.0   \n",
      "...        ...           ...     ...    ...         ...      ...       ...   \n",
      "9277         0             1       0      0         0.0      0.0       1.0   \n",
      "9278         0             1       0      0         0.0      0.0       0.0   \n",
      "9279         0             1       0      0         0.0      0.0       0.0   \n",
      "9280         0             1       0      0         0.0      0.0       0.0   \n",
      "9281         0             1       0      0         0.0      0.0       0.0   \n",
      "\n",
      "      form  \n",
      "0    -99.0  \n",
      "1    -99.0  \n",
      "2    -99.0  \n",
      "3    -99.0  \n",
      "4    -99.0  \n",
      "...    ...  \n",
      "9277   7.0  \n",
      "9278 -99.0  \n",
      "9279 -99.0  \n",
      "9280 -99.0  \n",
      "9281 -99.0  \n",
      "\n",
      "[9282 rows x 22 columns]\n"
     ]
    }
   ],
   "source": [
    "df['form'] = pd.to_numeric(df['form'], errors='coerce')\n",
    "print(df)"
   ]
  },
  {
   "cell_type": "code",
   "execution_count": 20,
   "metadata": {},
   "outputs": [
    {
     "name": "stdout",
     "output_type": "stream",
     "text": [
      "      year  conflictid_old  conflictid_new             actor  actorid  \\\n",
      "0     1989               6             205              Iran      630   \n",
      "1     1990               6             205              Iran      630   \n",
      "2     1991               6             205              Iran      630   \n",
      "3     1992               6             205              Iran      630   \n",
      "4     1993               6             205              Iran      630   \n",
      "...    ...             ...             ...               ...      ...   \n",
      "9277  2015             298           13694             Libya      620   \n",
      "9278  2015           13721           13721           Algeria      615   \n",
      "9279  2015           13721           13721  Jund al-Khilafah     5870   \n",
      "9280  2015           13902           13902                IS     1076   \n",
      "9281  2015           13902           13902            Turkey      640   \n",
      "\n",
      "      actorid_new  actor_type  type  incomp  region  ... gwnoloc2  gwnoloc3  \\\n",
      "0           114.0           1     3       1       2  ...        0         0   \n",
      "1           114.0           1     3       1       2  ...        0         0   \n",
      "2           114.0           1     3       1       2  ...        0         0   \n",
      "3           114.0           1     3       1       2  ...        0         0   \n",
      "4           114.0           1     3       1       2  ...        0         0   \n",
      "...           ...         ...   ...     ...     ...  ...      ...       ...   \n",
      "9277        111.0           1     3       1       4  ...        0         0   \n",
      "9278        109.0           1     3       1       4  ...        0         0   \n",
      "9279       5870.0           3     3       1       4  ...        0         0   \n",
      "9280        234.0           3     3       1       2  ...        0         0   \n",
      "9281        115.0           1     3       1       2  ...        0         0   \n",
      "\n",
      "      gwnoloc4  conflictyear  interm  postc  state_prev  ai_prev  hrw_prev  \\\n",
      "0            0             0       1      0         0.0      0.0       0.0   \n",
      "1            0             1       0      0         0.0      0.0       0.0   \n",
      "2            0             0       1      0         0.0      0.0       0.0   \n",
      "3            0             0       1      0         0.0      0.0       0.0   \n",
      "4            0             1       0      0         0.0      0.0       0.0   \n",
      "...        ...           ...     ...    ...         ...      ...       ...   \n",
      "9277         0             1       0      0         0.0      0.0       1.0   \n",
      "9278         0             1       0      0         0.0      0.0       0.0   \n",
      "9279         0             1       0      0         0.0      0.0       0.0   \n",
      "9280         0             1       0      0         0.0      0.0       0.0   \n",
      "9281         0             1       0      0         0.0      0.0       0.0   \n",
      "\n",
      "      form  \n",
      "0    -99.0  \n",
      "1    -99.0  \n",
      "2    -99.0  \n",
      "3    -99.0  \n",
      "4    -99.0  \n",
      "...    ...  \n",
      "9277   7.0  \n",
      "9278 -99.0  \n",
      "9279 -99.0  \n",
      "9280 -99.0  \n",
      "9281 -99.0  \n",
      "\n",
      "[9282 rows x 22 columns]\n"
     ]
    }
   ],
   "source": [
    "# Get column 'form' to take out all commas\n",
    "df =df.replace(',','')\n",
    "print(df)"
   ]
  },
  {
   "cell_type": "code",
   "execution_count": 23,
   "metadata": {},
   "outputs": [
    {
     "data": {
      "text/plain": [
       "-99.0    8329\n",
       " 1.0      598\n",
       " 7.0       70\n",
       " 2.0       25\n",
       " 6.0        2\n",
       " 3.0        2\n",
       " 5.0        2\n",
       "Name: form, dtype: int64"
      ]
     },
     "execution_count": 23,
     "metadata": {},
     "output_type": "execute_result"
    }
   ],
   "source": [
    "#Before assigning '-99' to a '1', need to count all 1,2,3,4,5,6,7 in form and represent as a number great than '1'\n",
    "\n",
    "df['form'].value_counts()"
   ]
  },
  {
   "cell_type": "code",
   "execution_count": 31,
   "metadata": {},
   "outputs": [
    {
     "ename": "SyntaxError",
     "evalue": "invalid syntax (<ipython-input-31-6540d77d207d>, line 2)",
     "output_type": "error",
     "traceback": [
      "\u001b[0;36m  File \u001b[0;32m\"<ipython-input-31-6540d77d207d>\"\u001b[0;36m, line \u001b[0;32m2\u001b[0m\n\u001b[0;31m    def form_is_pattern('form':1,2,3,4,5,6,7):\u001b[0m\n\u001b[0m                             ^\u001b[0m\n\u001b[0;31mSyntaxError\u001b[0m\u001b[0;31m:\u001b[0m invalid syntax\n"
     ]
    }
   ],
   "source": [
    "#Define a Function where 'form'>1\n",
    "def form_is_pattern('form':1,2,3,4,5,6,7):\n",
    "    if x >= 1:        # form_is_pattern must be 1,2,3,4,5,6,or 7\n",
    "        print(2)\n",
    "    else:             # form_is_pattern includes '-99' or '99'\n",
    "        print(1)       "
   ]
  },
  {
   "cell_type": "code",
   "execution_count": null,
   "metadata": {},
   "outputs": [],
   "source": []
  },
  {
   "cell_type": "code",
   "execution_count": null,
   "metadata": {},
   "outputs": [],
   "source": [
    "#Need to change 'form' column value of -99 to 1 to calculate new index without eliminating the unreportable score.\n",
    "print(df['form'].str.replace('-99', '1'))"
   ]
  },
  {
   "cell_type": "code",
   "execution_count": null,
   "metadata": {},
   "outputs": [],
   "source": [
    "# Instead, let's define a new function that takes a string as an argument\n",
    "# and returns True if the string is all digits, otherwise False.\n",
    "\n",
    "def is_a_digit('form'):\n",
    "    # First make sure we're operating on a string, then use our string method.\n",
    "    return str(df['form'].isdigit()\n",
    "\n",
    "# Now let's apply our custom function to each element in our series.\n",
    "print(df.apply(is_a_digit))"
   ]
  },
  {
   "cell_type": "code",
   "execution_count": null,
   "metadata": {},
   "outputs": [],
   "source": [
    "np.median(df['actor_type'])\n",
    "#Actor carrying out violence usually type '3': Rebel (in UCDP dyadic, the actor type is called 'Side B')"
   ]
  },
  {
   "cell_type": "code",
   "execution_count": null,
   "metadata": {},
   "outputs": [],
   "source": [
    "import statistics\n",
    "statistics.mode(df['actor_type'])\n",
    "#Actor carrying out violence usually type '3': Rebel (in UCDP dyadic, the actor type is called 'Side B')"
   ]
  },
  {
   "cell_type": "code",
   "execution_count": null,
   "metadata": {},
   "outputs": [],
   "source": [
    "df.describe()"
   ]
  },
  {
   "cell_type": "markdown",
   "metadata": {},
   "source": [
    "## Missing Data:\n",
    "### We can see that 19 records are missing from the 'actorid' column -- we don't know which actors are unaccounted for in 19 records/rows. Also, we are missing 10 records in the last 3 columns. \n",
    "\n",
    "\n",
    "##Duplicate Data:\n",
    "###We do not have duplicate columns."
   ]
  },
  {
   "cell_type": "code",
   "execution_count": null,
   "metadata": {},
   "outputs": [],
   "source": [
    "#built in like .sum() or .count(). For even greater possibilities you can use .aggregate(numpy_function). \n",
    "df.groupby('location').count()"
   ]
  },
  {
   "cell_type": "code",
   "execution_count": null,
   "metadata": {},
   "outputs": [],
   "source": [
    "df.groupby('location').sum()"
   ]
  },
  {
   "cell_type": "code",
   "execution_count": null,
   "metadata": {},
   "outputs": [],
   "source": [
    "#Country affected with sexual violence\n",
    "df.groupby('location').aggregate(np.median)"
   ]
  },
  {
   "cell_type": "markdown",
   "metadata": {},
   "source": [
    "### We see that there are 10 different 'actor types' and 4 different 'form' sexual violence measured. "
   ]
  },
  {
   "cell_type": "markdown",
   "metadata": {},
   "source": [
    "### Need to parse out Syria subset, or 'Group A', aside from the global sample between years 2011-2015. \n",
    "Source: https://www.dunderdata.com/blog/selecting-subsets-of-data-in-pandas-part-1 "
   ]
  },
  {
   "cell_type": "code",
   "execution_count": null,
   "metadata": {},
   "outputs": [],
   "source": [
    "#Will create 'X' as the subset dropping columns, rows not needed\n",
    "#The global sample is 'Group B'. Need a second dataframe to organize this group A.\n",
    "X=df_xls.drop(columns=['conflictid_old'])\n",
    "X"
   ]
  },
  {
   "cell_type": "markdown",
   "metadata": {},
   "source": [
    "###Variables of interest/Metrics: \n",
    "1) 'year' = Year of conflict                                      2) 'conflictyear' = Dummy variable\n",
    "3)'actor_type' = Actor carrying out violence: state (A), rebel group (B), Outside party supporting (A), Outside party supporting (B)\n",
    "4)'type'= Type of conflict                                        5) 'conflictid_new' = Updated conflict data; \n",
    "6)'Location' = Country of conflict (Note: different from column where they could be an actor in another conflict)\n",
    "7) 'Prevalence'= Rate of Sexual Violence, Ordinal Variable        8)'Form'= Type of Sexual Violence, Nominal Variable"
   ]
  },
  {
   "cell_type": "markdown",
   "metadata": {},
   "source": [
    "##Group A-Syria vs. Group B-World"
   ]
  },
  {
   "cell_type": "code",
   "execution_count": null,
   "metadata": {},
   "outputs": [],
   "source": [
    "#Create a subset \n",
    "#Need only Syria rows, use iloc\n",
    "df_Syria = df[['year','conflictid_new','actor_type','type','location','state_prev','ai_prev','hrw_prev','form']]\n",
    "df_Syria"
   ]
  },
  {
   "cell_type": "code",
   "execution_count": null,
   "metadata": {},
   "outputs": [],
   "source": [
    "df_Syria.loc['2011':'2015']\n",
    "#df_Syria.loc['location' = Syria]\n",
    "df_Syria"
   ]
  },
  {
   "cell_type": "code",
   "execution_count": null,
   "metadata": {},
   "outputs": [],
   "source": [
    "#Select from 'year' between 2011 and 2017 AND location of Syria index\n",
    "df_Syria = df[(df['year'] >= 2011) & (df['year'] <= 2017) & (df['location'] == 'Syria')]\n",
    "df_Syria"
   ]
  },
  {
   "cell_type": "code",
   "execution_count": null,
   "metadata": {},
   "outputs": [],
   "source": []
  },
  {
   "cell_type": "markdown",
   "metadata": {},
   "source": [
    "### Sexual Violence Index"
   ]
  },
  {
   "cell_type": "code",
   "execution_count": null,
   "metadata": {},
   "outputs": [],
   "source": [
    "#Create a column that combines the 2 dimensions of sexual violence: Prevalence and Form\n",
    "#Need to convert 'form' to integar\n",
    "df_Syria[int()]"
   ]
  },
  {
   "cell_type": "code",
   "execution_count": null,
   "metadata": {},
   "outputs": [],
   "source": [
    "df_Syria['sex_violence']=df['state_prev']+df['ai_prev']+df['hrw_prev'] #* df['form']\n",
    "df_Syria"
   ]
  },
  {
   "cell_type": "code",
   "execution_count": null,
   "metadata": {},
   "outputs": [],
   "source": [
    "#Summary stats for Group A\n",
    "df_Syria.describe()"
   ]
  },
  {
   "cell_type": "code",
   "execution_count": null,
   "metadata": {},
   "outputs": [],
   "source": [
    "#Group B\n",
    "df_world = df[(df['year'] >= 2011) & (df['year'] <= 2017) & (df['location'] != 'Syria')]\n",
    "df_world"
   ]
  },
  {
   "cell_type": "code",
   "execution_count": null,
   "metadata": {},
   "outputs": [],
   "source": [
    "#Summary stats for Group B\n",
    "df_world.describe()"
   ]
  },
  {
   "cell_type": "code",
   "execution_count": null,
   "metadata": {},
   "outputs": [],
   "source": [
    "sns.catplot(x=\"type\", y=\"actor_type\", kind=\"swarm\", data=df_world)\n",
    "plt.title('Type of Conflict With Actor Intervention')"
   ]
  },
  {
   "cell_type": "markdown",
   "metadata": {},
   "source": [
    "Group C: Yemen Case"
   ]
  },
  {
   "cell_type": "code",
   "execution_count": null,
   "metadata": {},
   "outputs": [],
   "source": [
    "#Would this be an A/A testing if I used a similar conflict zone case, like Yemen?\n",
    "df_Yemen = df[(df['year'] >= 2011) & (df['year'] <= 2017) & (df['location'] == 'Yemen')]\n",
    "df_Yemen"
   ]
  },
  {
   "cell_type": "markdown",
   "metadata": {},
   "source": [
    "##No data provided for Yemen. Something to look at for future study."
   ]
  }
 ],
 "metadata": {
  "kernelspec": {
   "display_name": "Python 3",
   "language": "python",
   "name": "python3"
  },
  "language_info": {
   "codemirror_mode": {
    "name": "ipython",
    "version": 3
   },
   "file_extension": ".py",
   "mimetype": "text/x-python",
   "name": "python",
   "nbconvert_exporter": "python",
   "pygments_lexer": "ipython3",
   "version": "3.7.4"
  }
 },
 "nbformat": 4,
 "nbformat_minor": 2
}
